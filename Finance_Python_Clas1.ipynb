{
  "nbformat": 4,
  "nbformat_minor": 0,
  "metadata": {
    "colab": {
      "name": "Finance Python - Clas1",
      "provenance": []
    },
    "kernelspec": {
      "name": "python3",
      "display_name": "Python 3"
    },
    "language_info": {
      "name": "python"
    }
  },
  "cells": [
    {
      "cell_type": "markdown",
      "source": [
        "**Session 1:** \n",
        "\n",
        "Test de Jarque-Bera aplicado a datos de mercado."
      ],
      "metadata": {
        "id": "83OGdz4fE2uc"
      }
    },
    {
      "cell_type": "code",
      "execution_count": 12,
      "metadata": {
        "id": "210mevJDEz9n"
      },
      "outputs": [],
      "source": [
        "# Librerias --------------------------------------------------------------\n",
        "\n",
        "import numpy as np\n",
        "import pandas as pd\n",
        "import matplotlib as mpl\n",
        "import scipy \n",
        "import importlib\n",
        "import matplotlib.pyplot as plt\n",
        "from scipy.stats import skew, kurtosis,chi2\n",
        "plt.style.use('ggplot') \n",
        "import seaborn as sns\n",
        "import yfinance as yf  # pip install -U --force-reinstall yfinance"
      ]
    },
    {
      "cell_type": "code",
      "source": [
        "# Extracion de los datos --- Fuente: Yahoo Finance\n",
        "start = \"1980-08-18\"\n",
        "end   = \"2022-08-18\"\n",
        "data  = yf.download(\"^DJI\",start, end)"
      ],
      "metadata": {
        "colab": {
          "base_uri": "https://localhost:8080/"
        },
        "id": "SjLDl8kvFa06",
        "outputId": "33561044-d008-456b-d677-e520806ba839"
      },
      "execution_count": 13,
      "outputs": [
        {
          "output_type": "stream",
          "name": "stdout",
          "text": [
            "\r[*********************100%***********************]  1 of 1 completed\n"
          ]
        }
      ]
    },
    {
      "cell_type": "code",
      "source": [
        "# Anexamos a los datos, los rendimientos\n",
        "data[\"Close_previo\"]        = data[\"Close\"].shift(1)\n",
        "data[\"rendimientos_close\"]  = data[\"Close\"]/data[\"Close_previo\"]-1\n",
        "data                        = data.dropna()\n",
        "data"
      ],
      "metadata": {
        "colab": {
          "base_uri": "https://localhost:8080/",
          "height": 455
        },
        "id": "uYicb9VlGEWa",
        "outputId": "dc72fd85-02c6-4b66-8966-f898d4894592"
      },
      "execution_count": 14,
      "outputs": [
        {
          "output_type": "execute_result",
          "data": {
            "text/plain": [
              "                    Open          High           Low         Close  \\\n",
              "Date                                                                 \n",
              "1992-01-03   3172.399902   3210.639893   3165.919922   3201.500000   \n",
              "1992-01-06   3201.500000   3213.330078   3191.860107   3200.100098   \n",
              "1992-01-07   3200.100098   3210.199951   3184.479980   3204.800049   \n",
              "1992-01-08   3204.800049   3229.199951   3185.820068   3203.899902   \n",
              "1992-01-09   3203.899902   3228.310059   3192.750000   3209.500000   \n",
              "...                  ...           ...           ...           ...   \n",
              "2022-08-11  33451.511719  33651.800781  33289.828125  33336.671875   \n",
              "2022-08-12  33430.718750  33767.089844  33398.320312  33761.050781   \n",
              "2022-08-15  33710.699219  33954.710938  33582.960938  33912.441406   \n",
              "2022-08-16  33924.351562  34281.359375  33852.570312  34152.011719   \n",
              "2022-08-17  34029.550781  34161.011719  33828.410156  33980.320312   \n",
              "\n",
              "               Adj Close     Volume  Close_previo  rendimientos_close  \n",
              "Date                                                                   \n",
              "1992-01-03   3201.500000   23620000   3172.399902            0.009173  \n",
              "1992-01-06   3200.100098   27280000   3201.500000           -0.000437  \n",
              "1992-01-07   3204.800049   25510000   3200.100098            0.001469  \n",
              "1992-01-08   3203.899902   29040000   3204.800049           -0.000281  \n",
              "1992-01-09   3209.500000   29820000   3203.899902            0.001748  \n",
              "...                  ...        ...           ...                 ...  \n",
              "2022-08-11  33336.671875  308030000  33309.511719            0.000815  \n",
              "2022-08-12  33761.050781  299140000  33336.671875            0.012730  \n",
              "2022-08-15  33912.441406  262670000  33761.050781            0.004484  \n",
              "2022-08-16  34152.011719  288670000  33912.441406            0.007064  \n",
              "2022-08-17  33980.320312  281390000  34152.011719           -0.005027  \n",
              "\n",
              "[7714 rows x 8 columns]"
            ],
            "text/html": [
              "\n",
              "  <div id=\"df-22443445-65a3-4a64-bef8-f32925effc97\">\n",
              "    <div class=\"colab-df-container\">\n",
              "      <div>\n",
              "<style scoped>\n",
              "    .dataframe tbody tr th:only-of-type {\n",
              "        vertical-align: middle;\n",
              "    }\n",
              "\n",
              "    .dataframe tbody tr th {\n",
              "        vertical-align: top;\n",
              "    }\n",
              "\n",
              "    .dataframe thead th {\n",
              "        text-align: right;\n",
              "    }\n",
              "</style>\n",
              "<table border=\"1\" class=\"dataframe\">\n",
              "  <thead>\n",
              "    <tr style=\"text-align: right;\">\n",
              "      <th></th>\n",
              "      <th>Open</th>\n",
              "      <th>High</th>\n",
              "      <th>Low</th>\n",
              "      <th>Close</th>\n",
              "      <th>Adj Close</th>\n",
              "      <th>Volume</th>\n",
              "      <th>Close_previo</th>\n",
              "      <th>rendimientos_close</th>\n",
              "    </tr>\n",
              "    <tr>\n",
              "      <th>Date</th>\n",
              "      <th></th>\n",
              "      <th></th>\n",
              "      <th></th>\n",
              "      <th></th>\n",
              "      <th></th>\n",
              "      <th></th>\n",
              "      <th></th>\n",
              "      <th></th>\n",
              "    </tr>\n",
              "  </thead>\n",
              "  <tbody>\n",
              "    <tr>\n",
              "      <th>1992-01-03</th>\n",
              "      <td>3172.399902</td>\n",
              "      <td>3210.639893</td>\n",
              "      <td>3165.919922</td>\n",
              "      <td>3201.500000</td>\n",
              "      <td>3201.500000</td>\n",
              "      <td>23620000</td>\n",
              "      <td>3172.399902</td>\n",
              "      <td>0.009173</td>\n",
              "    </tr>\n",
              "    <tr>\n",
              "      <th>1992-01-06</th>\n",
              "      <td>3201.500000</td>\n",
              "      <td>3213.330078</td>\n",
              "      <td>3191.860107</td>\n",
              "      <td>3200.100098</td>\n",
              "      <td>3200.100098</td>\n",
              "      <td>27280000</td>\n",
              "      <td>3201.500000</td>\n",
              "      <td>-0.000437</td>\n",
              "    </tr>\n",
              "    <tr>\n",
              "      <th>1992-01-07</th>\n",
              "      <td>3200.100098</td>\n",
              "      <td>3210.199951</td>\n",
              "      <td>3184.479980</td>\n",
              "      <td>3204.800049</td>\n",
              "      <td>3204.800049</td>\n",
              "      <td>25510000</td>\n",
              "      <td>3200.100098</td>\n",
              "      <td>0.001469</td>\n",
              "    </tr>\n",
              "    <tr>\n",
              "      <th>1992-01-08</th>\n",
              "      <td>3204.800049</td>\n",
              "      <td>3229.199951</td>\n",
              "      <td>3185.820068</td>\n",
              "      <td>3203.899902</td>\n",
              "      <td>3203.899902</td>\n",
              "      <td>29040000</td>\n",
              "      <td>3204.800049</td>\n",
              "      <td>-0.000281</td>\n",
              "    </tr>\n",
              "    <tr>\n",
              "      <th>1992-01-09</th>\n",
              "      <td>3203.899902</td>\n",
              "      <td>3228.310059</td>\n",
              "      <td>3192.750000</td>\n",
              "      <td>3209.500000</td>\n",
              "      <td>3209.500000</td>\n",
              "      <td>29820000</td>\n",
              "      <td>3203.899902</td>\n",
              "      <td>0.001748</td>\n",
              "    </tr>\n",
              "    <tr>\n",
              "      <th>...</th>\n",
              "      <td>...</td>\n",
              "      <td>...</td>\n",
              "      <td>...</td>\n",
              "      <td>...</td>\n",
              "      <td>...</td>\n",
              "      <td>...</td>\n",
              "      <td>...</td>\n",
              "      <td>...</td>\n",
              "    </tr>\n",
              "    <tr>\n",
              "      <th>2022-08-11</th>\n",
              "      <td>33451.511719</td>\n",
              "      <td>33651.800781</td>\n",
              "      <td>33289.828125</td>\n",
              "      <td>33336.671875</td>\n",
              "      <td>33336.671875</td>\n",
              "      <td>308030000</td>\n",
              "      <td>33309.511719</td>\n",
              "      <td>0.000815</td>\n",
              "    </tr>\n",
              "    <tr>\n",
              "      <th>2022-08-12</th>\n",
              "      <td>33430.718750</td>\n",
              "      <td>33767.089844</td>\n",
              "      <td>33398.320312</td>\n",
              "      <td>33761.050781</td>\n",
              "      <td>33761.050781</td>\n",
              "      <td>299140000</td>\n",
              "      <td>33336.671875</td>\n",
              "      <td>0.012730</td>\n",
              "    </tr>\n",
              "    <tr>\n",
              "      <th>2022-08-15</th>\n",
              "      <td>33710.699219</td>\n",
              "      <td>33954.710938</td>\n",
              "      <td>33582.960938</td>\n",
              "      <td>33912.441406</td>\n",
              "      <td>33912.441406</td>\n",
              "      <td>262670000</td>\n",
              "      <td>33761.050781</td>\n",
              "      <td>0.004484</td>\n",
              "    </tr>\n",
              "    <tr>\n",
              "      <th>2022-08-16</th>\n",
              "      <td>33924.351562</td>\n",
              "      <td>34281.359375</td>\n",
              "      <td>33852.570312</td>\n",
              "      <td>34152.011719</td>\n",
              "      <td>34152.011719</td>\n",
              "      <td>288670000</td>\n",
              "      <td>33912.441406</td>\n",
              "      <td>0.007064</td>\n",
              "    </tr>\n",
              "    <tr>\n",
              "      <th>2022-08-17</th>\n",
              "      <td>34029.550781</td>\n",
              "      <td>34161.011719</td>\n",
              "      <td>33828.410156</td>\n",
              "      <td>33980.320312</td>\n",
              "      <td>33980.320312</td>\n",
              "      <td>281390000</td>\n",
              "      <td>34152.011719</td>\n",
              "      <td>-0.005027</td>\n",
              "    </tr>\n",
              "  </tbody>\n",
              "</table>\n",
              "<p>7714 rows × 8 columns</p>\n",
              "</div>\n",
              "      <button class=\"colab-df-convert\" onclick=\"convertToInteractive('df-22443445-65a3-4a64-bef8-f32925effc97')\"\n",
              "              title=\"Convert this dataframe to an interactive table.\"\n",
              "              style=\"display:none;\">\n",
              "        \n",
              "  <svg xmlns=\"http://www.w3.org/2000/svg\" height=\"24px\"viewBox=\"0 0 24 24\"\n",
              "       width=\"24px\">\n",
              "    <path d=\"M0 0h24v24H0V0z\" fill=\"none\"/>\n",
              "    <path d=\"M18.56 5.44l.94 2.06.94-2.06 2.06-.94-2.06-.94-.94-2.06-.94 2.06-2.06.94zm-11 1L8.5 8.5l.94-2.06 2.06-.94-2.06-.94L8.5 2.5l-.94 2.06-2.06.94zm10 10l.94 2.06.94-2.06 2.06-.94-2.06-.94-.94-2.06-.94 2.06-2.06.94z\"/><path d=\"M17.41 7.96l-1.37-1.37c-.4-.4-.92-.59-1.43-.59-.52 0-1.04.2-1.43.59L10.3 9.45l-7.72 7.72c-.78.78-.78 2.05 0 2.83L4 21.41c.39.39.9.59 1.41.59.51 0 1.02-.2 1.41-.59l7.78-7.78 2.81-2.81c.8-.78.8-2.07 0-2.86zM5.41 20L4 18.59l7.72-7.72 1.47 1.35L5.41 20z\"/>\n",
              "  </svg>\n",
              "      </button>\n",
              "      \n",
              "  <style>\n",
              "    .colab-df-container {\n",
              "      display:flex;\n",
              "      flex-wrap:wrap;\n",
              "      gap: 12px;\n",
              "    }\n",
              "\n",
              "    .colab-df-convert {\n",
              "      background-color: #E8F0FE;\n",
              "      border: none;\n",
              "      border-radius: 50%;\n",
              "      cursor: pointer;\n",
              "      display: none;\n",
              "      fill: #1967D2;\n",
              "      height: 32px;\n",
              "      padding: 0 0 0 0;\n",
              "      width: 32px;\n",
              "    }\n",
              "\n",
              "    .colab-df-convert:hover {\n",
              "      background-color: #E2EBFA;\n",
              "      box-shadow: 0px 1px 2px rgba(60, 64, 67, 0.3), 0px 1px 3px 1px rgba(60, 64, 67, 0.15);\n",
              "      fill: #174EA6;\n",
              "    }\n",
              "\n",
              "    [theme=dark] .colab-df-convert {\n",
              "      background-color: #3B4455;\n",
              "      fill: #D2E3FC;\n",
              "    }\n",
              "\n",
              "    [theme=dark] .colab-df-convert:hover {\n",
              "      background-color: #434B5C;\n",
              "      box-shadow: 0px 1px 3px 1px rgba(0, 0, 0, 0.15);\n",
              "      filter: drop-shadow(0px 1px 2px rgba(0, 0, 0, 0.3));\n",
              "      fill: #FFFFFF;\n",
              "    }\n",
              "  </style>\n",
              "\n",
              "      <script>\n",
              "        const buttonEl =\n",
              "          document.querySelector('#df-22443445-65a3-4a64-bef8-f32925effc97 button.colab-df-convert');\n",
              "        buttonEl.style.display =\n",
              "          google.colab.kernel.accessAllowed ? 'block' : 'none';\n",
              "\n",
              "        async function convertToInteractive(key) {\n",
              "          const element = document.querySelector('#df-22443445-65a3-4a64-bef8-f32925effc97');\n",
              "          const dataTable =\n",
              "            await google.colab.kernel.invokeFunction('convertToInteractive',\n",
              "                                                     [key], {});\n",
              "          if (!dataTable) return;\n",
              "\n",
              "          const docLinkHtml = 'Like what you see? Visit the ' +\n",
              "            '<a target=\"_blank\" href=https://colab.research.google.com/notebooks/data_table.ipynb>data table notebook</a>'\n",
              "            + ' to learn more about interactive tables.';\n",
              "          element.innerHTML = '';\n",
              "          dataTable['output_type'] = 'display_data';\n",
              "          await google.colab.output.renderOutput(dataTable, element);\n",
              "          const docLink = document.createElement('div');\n",
              "          docLink.innerHTML = docLinkHtml;\n",
              "          element.appendChild(docLink);\n",
              "        }\n",
              "      </script>\n",
              "    </div>\n",
              "  </div>\n",
              "  "
            ]
          },
          "metadata": {},
          "execution_count": 14
        }
      ]
    },
    {
      "cell_type": "code",
      "source": [
        "# Plot de Precios \n",
        "plt.figure()\n",
        "plt.plot(data[\"Close\"])\n",
        "plt.xlabel(\"Tiempo\")\n",
        "plt.ylabel(\"Precio\")\n",
        "plt.show()"
      ],
      "metadata": {
        "colab": {
          "base_uri": "https://localhost:8080/",
          "height": 282
        },
        "id": "XIQ4hmQCG68U",
        "outputId": "9400973e-df55-401e-c645-9262a510ee58"
      },
      "execution_count": 15,
      "outputs": [
        {
          "output_type": "display_data",
          "data": {
            "text/plain": [
              "<Figure size 432x288 with 1 Axes>"
            ],
            "image/png": "[encoded data removed]"
          },
          "metadata": {}
        }
      ]
    },
    {
      "cell_type": "code",
      "source": [
        "# Input para Test Jarque-Bera\n",
        "x     = data[\"rendimientos_close\"]\n",
        "x_tam = len(x)"
      ],
      "metadata": {
        "id": "-16hDm9HHP2K"
      },
      "execution_count": 16,
      "outputs": []
    },
    {
      "cell_type": "code",
      "source": [
        "# Computo \"Metricas de Riesgo\" \n",
        "x_mean    = np.mean(x)\n",
        "x_stdev   = np.std(x)\n",
        "x_skew    = skew(x)\n",
        "x_kurt    = kurtosis(x)\n",
        "x_sharpe  = x_mean/x_stdev*np.sqrt(252)\n",
        "x_var_95  = np.percentile(x,5) \n",
        "x_cvar_95 = np.mean(x[x <= x_var_95])\n",
        "x_JB      = x_tam/6*(x_skew**2 + 1/4*x_kurt**2)\n",
        "p_value   = 1 - chi2.cdf(x_JB,df = 2)\n",
        "is_normal = (p_value > 0.05)"
      ],
      "metadata": {
        "id": "-u-7vIqDHpdy"
      },
      "execution_count": 17,
      "outputs": []
    },
    {
      "cell_type": "code",
      "source": [
        "# Output \"Metricas de Riesgo\"\n",
        "print('-----------------------------------------------')\n",
        "print('media: \\t\\t\\t'    + str(x_mean))\n",
        "print('std: \\t\\t\\t'      + str(x_stdev))\n",
        "print('skewness: \\t\\t'   + str(x_skew))\n",
        "print('kurtosis: \\t\\t'   + str(x_kurt))\n",
        "print('Cof_Sharpe: \\t\\t' + str(x_sharpe))\n",
        "print('VaR 95%: \\t\\t'    + str(x_var_95))\n",
        "print('CVarR 95%: \\t\\t'  + str(x_cvar_95))\n",
        "print('Jarque-Bera:\\t\\t' + str(x_JB))\n",
        "print('p-value: \\t\\t'    + str(p_value))\n",
        "print('Es_normal: \\t\\t'  + str(is_normal))\n",
        "print('-----------------------------------------------')"
      ],
      "metadata": {
        "colab": {
          "base_uri": "https://localhost:8080/"
        },
        "id": "_xW_7opdI5KC",
        "outputId": "9848df8c-182f-4249-d951-c891d27f847d"
      },
      "execution_count": 18,
      "outputs": [
        {
          "output_type": "stream",
          "name": "stdout",
          "text": [
            "-----------------------------------------------\n",
            "media: \t\t\t0.0003697667290218688\n",
            "std: \t\t\t0.011153711835638742\n",
            "skewness: \t\t-0.17163878031190663\n",
            "kurtosis: \t\t12.721856290360417\n",
            "Cof_Sharpe: \t\t0.5262700825594618\n",
            "VaR 95%: \t\t-0.0165327668609045\n",
            "CVarR 95%: \t\t-0.026550936751216163\n",
            "Jarque-Bera:\t\t52057.75767084208\n",
            "p-value: \t\t0.0\n",
            "Es_normal: \t\tFalse\n",
            "-----------------------------------------------\n"
          ]
        }
      ]
    },
    {
      "cell_type": "code",
      "source": [
        "# Plot Histograma\n",
        "plt.figure()\n",
        "plt.hist(x,bins = 100)\n",
        "plt.title(\"Histograma de Mercado\")\n",
        "plt.show()"
      ],
      "metadata": {
        "colab": {
          "base_uri": "https://localhost:8080/",
          "height": 282
        },
        "id": "Jisq4KP0Jh8J",
        "outputId": "0e34fff1-fedd-425e-8a47-b4ede6a60865"
      },
      "execution_count": 19,
      "outputs": [
        {
          "output_type": "display_data",
          "data": {
            "text/plain": [
              "<Figure size 432x288 with 1 Axes>"
            ],
            "image/png": "[encoded data removed]"
          },
          "metadata": {}
        }
      ]
    }
  ]
}